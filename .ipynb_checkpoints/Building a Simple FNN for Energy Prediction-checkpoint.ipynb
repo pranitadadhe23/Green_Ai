{
 "cells": [
  {
   "cell_type": "code",
   "execution_count": 4,
   "id": "0514f620-267f-4549-a8e6-9aedf26b22bd",
   "metadata": {},
   "outputs": [
    {
     "name": "stdout",
     "output_type": "stream",
     "text": [
      "Requirement already satisfied: numpy in c:\\users\\asus\\anaconda3\\lib\\site-packages (1.26.4)\n",
      "Requirement already satisfied: pandas in c:\\users\\asus\\anaconda3\\lib\\site-packages (2.2.2)\n",
      "Requirement already satisfied: matplotlib in c:\\users\\asus\\anaconda3\\lib\\site-packages (3.9.2)\n",
      "Requirement already satisfied: tensorflow in c:\\users\\asus\\anaconda3\\lib\\site-packages (2.18.0)\n",
      "Requirement already satisfied: scikit-learn in c:\\users\\asus\\anaconda3\\lib\\site-packages (1.5.1)\n",
      "Requirement already satisfied: python-dateutil>=2.8.2 in c:\\users\\asus\\anaconda3\\lib\\site-packages (from pandas) (2.9.0.post0)\n",
      "Requirement already satisfied: pytz>=2020.1 in c:\\users\\asus\\anaconda3\\lib\\site-packages (from pandas) (2024.1)\n",
      "Requirement already satisfied: tzdata>=2022.7 in c:\\users\\asus\\anaconda3\\lib\\site-packages (from pandas) (2023.3)\n",
      "Requirement already satisfied: contourpy>=1.0.1 in c:\\users\\asus\\anaconda3\\lib\\site-packages (from matplotlib) (1.2.0)\n",
      "Requirement already satisfied: cycler>=0.10 in c:\\users\\asus\\anaconda3\\lib\\site-packages (from matplotlib) (0.11.0)\n",
      "Requirement already satisfied: fonttools>=4.22.0 in c:\\users\\asus\\anaconda3\\lib\\site-packages (from matplotlib) (4.51.0)\n",
      "Requirement already satisfied: kiwisolver>=1.3.1 in c:\\users\\asus\\anaconda3\\lib\\site-packages (from matplotlib) (1.4.4)\n",
      "Requirement already satisfied: packaging>=20.0 in c:\\users\\asus\\anaconda3\\lib\\site-packages (from matplotlib) (24.1)\n",
      "Requirement already satisfied: pillow>=8 in c:\\users\\asus\\anaconda3\\lib\\site-packages (from matplotlib) (10.4.0)\n",
      "Requirement already satisfied: pyparsing>=2.3.1 in c:\\users\\asus\\anaconda3\\lib\\site-packages (from matplotlib) (3.1.2)\n",
      "Requirement already satisfied: tensorflow-intel==2.18.0 in c:\\users\\asus\\anaconda3\\lib\\site-packages (from tensorflow) (2.18.0)\n",
      "Requirement already satisfied: absl-py>=1.0.0 in c:\\users\\asus\\anaconda3\\lib\\site-packages (from tensorflow-intel==2.18.0->tensorflow) (2.1.0)\n",
      "Requirement already satisfied: astunparse>=1.6.0 in c:\\users\\asus\\anaconda3\\lib\\site-packages (from tensorflow-intel==2.18.0->tensorflow) (1.6.3)\n",
      "Requirement already satisfied: flatbuffers>=24.3.25 in c:\\users\\asus\\anaconda3\\lib\\site-packages (from tensorflow-intel==2.18.0->tensorflow) (24.12.23)\n",
      "Requirement already satisfied: gast!=0.5.0,!=0.5.1,!=0.5.2,>=0.2.1 in c:\\users\\asus\\anaconda3\\lib\\site-packages (from tensorflow-intel==2.18.0->tensorflow) (0.6.0)\n",
      "Requirement already satisfied: google-pasta>=0.1.1 in c:\\users\\asus\\anaconda3\\lib\\site-packages (from tensorflow-intel==2.18.0->tensorflow) (0.2.0)\n",
      "Requirement already satisfied: libclang>=13.0.0 in c:\\users\\asus\\anaconda3\\lib\\site-packages (from tensorflow-intel==2.18.0->tensorflow) (18.1.1)\n",
      "Requirement already satisfied: opt-einsum>=2.3.2 in c:\\users\\asus\\anaconda3\\lib\\site-packages (from tensorflow-intel==2.18.0->tensorflow) (3.4.0)\n",
      "Requirement already satisfied: protobuf!=4.21.0,!=4.21.1,!=4.21.2,!=4.21.3,!=4.21.4,!=4.21.5,<6.0.0dev,>=3.20.3 in c:\\users\\asus\\anaconda3\\lib\\site-packages (from tensorflow-intel==2.18.0->tensorflow) (4.25.3)\n",
      "Requirement already satisfied: requests<3,>=2.21.0 in c:\\users\\asus\\anaconda3\\lib\\site-packages (from tensorflow-intel==2.18.0->tensorflow) (2.32.3)\n",
      "Requirement already satisfied: setuptools in c:\\users\\asus\\anaconda3\\lib\\site-packages (from tensorflow-intel==2.18.0->tensorflow) (75.1.0)\n",
      "Requirement already satisfied: six>=1.12.0 in c:\\users\\asus\\anaconda3\\lib\\site-packages (from tensorflow-intel==2.18.0->tensorflow) (1.16.0)\n",
      "Requirement already satisfied: termcolor>=1.1.0 in c:\\users\\asus\\anaconda3\\lib\\site-packages (from tensorflow-intel==2.18.0->tensorflow) (2.5.0)\n",
      "Requirement already satisfied: typing-extensions>=3.6.6 in c:\\users\\asus\\anaconda3\\lib\\site-packages (from tensorflow-intel==2.18.0->tensorflow) (4.11.0)\n",
      "Requirement already satisfied: wrapt>=1.11.0 in c:\\users\\asus\\anaconda3\\lib\\site-packages (from tensorflow-intel==2.18.0->tensorflow) (1.14.1)\n",
      "Requirement already satisfied: grpcio<2.0,>=1.24.3 in c:\\users\\asus\\anaconda3\\lib\\site-packages (from tensorflow-intel==2.18.0->tensorflow) (1.69.0)\n",
      "Requirement already satisfied: tensorboard<2.19,>=2.18 in c:\\users\\asus\\anaconda3\\lib\\site-packages (from tensorflow-intel==2.18.0->tensorflow) (2.18.0)\n",
      "Requirement already satisfied: keras>=3.5.0 in c:\\users\\asus\\anaconda3\\lib\\site-packages (from tensorflow-intel==2.18.0->tensorflow) (3.8.0)\n",
      "Requirement already satisfied: h5py>=3.11.0 in c:\\users\\asus\\anaconda3\\lib\\site-packages (from tensorflow-intel==2.18.0->tensorflow) (3.11.0)\n",
      "Requirement already satisfied: ml-dtypes<0.5.0,>=0.4.0 in c:\\users\\asus\\anaconda3\\lib\\site-packages (from tensorflow-intel==2.18.0->tensorflow) (0.4.1)\n",
      "Requirement already satisfied: scipy>=1.6.0 in c:\\users\\asus\\anaconda3\\lib\\site-packages (from scikit-learn) (1.13.1)\n",
      "Requirement already satisfied: joblib>=1.2.0 in c:\\users\\asus\\anaconda3\\lib\\site-packages (from scikit-learn) (1.4.2)\n",
      "Requirement already satisfied: threadpoolctl>=3.1.0 in c:\\users\\asus\\anaconda3\\lib\\site-packages (from scikit-learn) (3.5.0)\n",
      "Requirement already satisfied: wheel<1.0,>=0.23.0 in c:\\users\\asus\\anaconda3\\lib\\site-packages (from astunparse>=1.6.0->tensorflow-intel==2.18.0->tensorflow) (0.44.0)\n",
      "Requirement already satisfied: rich in c:\\users\\asus\\anaconda3\\lib\\site-packages (from keras>=3.5.0->tensorflow-intel==2.18.0->tensorflow) (13.7.1)\n",
      "Requirement already satisfied: namex in c:\\users\\asus\\anaconda3\\lib\\site-packages (from keras>=3.5.0->tensorflow-intel==2.18.0->tensorflow) (0.0.8)\n",
      "Requirement already satisfied: optree in c:\\users\\asus\\anaconda3\\lib\\site-packages (from keras>=3.5.0->tensorflow-intel==2.18.0->tensorflow) (0.13.1)\n",
      "Requirement already satisfied: charset-normalizer<4,>=2 in c:\\users\\asus\\anaconda3\\lib\\site-packages (from requests<3,>=2.21.0->tensorflow-intel==2.18.0->tensorflow) (3.3.2)\n",
      "Requirement already satisfied: idna<4,>=2.5 in c:\\users\\asus\\anaconda3\\lib\\site-packages (from requests<3,>=2.21.0->tensorflow-intel==2.18.0->tensorflow) (3.7)\n",
      "Requirement already satisfied: urllib3<3,>=1.21.1 in c:\\users\\asus\\anaconda3\\lib\\site-packages (from requests<3,>=2.21.0->tensorflow-intel==2.18.0->tensorflow) (2.2.3)\n",
      "Requirement already satisfied: certifi>=2017.4.17 in c:\\users\\asus\\anaconda3\\lib\\site-packages (from requests<3,>=2.21.0->tensorflow-intel==2.18.0->tensorflow) (2024.12.14)\n",
      "Requirement already satisfied: markdown>=2.6.8 in c:\\users\\asus\\anaconda3\\lib\\site-packages (from tensorboard<2.19,>=2.18->tensorflow-intel==2.18.0->tensorflow) (3.4.1)\n",
      "Requirement already satisfied: tensorboard-data-server<0.8.0,>=0.7.0 in c:\\users\\asus\\anaconda3\\lib\\site-packages (from tensorboard<2.19,>=2.18->tensorflow-intel==2.18.0->tensorflow) (0.7.2)\n",
      "Requirement already satisfied: werkzeug>=1.0.1 in c:\\users\\asus\\anaconda3\\lib\\site-packages (from tensorboard<2.19,>=2.18->tensorflow-intel==2.18.0->tensorflow) (3.0.3)\n",
      "Requirement already satisfied: MarkupSafe>=2.1.1 in c:\\users\\asus\\anaconda3\\lib\\site-packages (from werkzeug>=1.0.1->tensorboard<2.19,>=2.18->tensorflow-intel==2.18.0->tensorflow) (2.1.3)\n",
      "Requirement already satisfied: markdown-it-py>=2.2.0 in c:\\users\\asus\\anaconda3\\lib\\site-packages (from rich->keras>=3.5.0->tensorflow-intel==2.18.0->tensorflow) (2.2.0)\n",
      "Requirement already satisfied: pygments<3.0.0,>=2.13.0 in c:\\users\\asus\\anaconda3\\lib\\site-packages (from rich->keras>=3.5.0->tensorflow-intel==2.18.0->tensorflow) (2.15.1)\n",
      "Requirement already satisfied: mdurl~=0.1 in c:\\users\\asus\\anaconda3\\lib\\site-packages (from markdown-it-py>=2.2.0->rich->keras>=3.5.0->tensorflow-intel==2.18.0->tensorflow) (0.1.0)\n",
      "Note: you may need to restart the kernel to use updated packages.\n"
     ]
    }
   ],
   "source": [
    "pip install numpy pandas matplotlib tensorflow scikit-learn"
   ]
  },
  {
   "cell_type": "code",
   "execution_count": 39,
   "id": "ff519634-797b-4d6c-add9-78668e6177ab",
   "metadata": {},
   "outputs": [],
   "source": [
    "import numpy as np\n",
    "import pandas as pd \n",
    "import matplotlib.pyplot as plt\n",
    "from sklearn.model_selection import train_test_split\n",
    "from sklearn.preprocessing import StandardScaler\n",
    "from tensorflow.keras.models import Sequential\n",
    "from tensorflow.keras.layers import Dense"
   ]
  },
  {
   "cell_type": "code",
   "execution_count": 8,
   "id": "f647a8fa-654d-45f1-b2e1-a66c33314e1e",
   "metadata": {},
   "outputs": [
    {
     "data": {
      "text/html": [
       "<div>\n",
       "<style scoped>\n",
       "    .dataframe tbody tr th:only-of-type {\n",
       "        vertical-align: middle;\n",
       "    }\n",
       "\n",
       "    .dataframe tbody tr th {\n",
       "        vertical-align: top;\n",
       "    }\n",
       "\n",
       "    .dataframe thead th {\n",
       "        text-align: right;\n",
       "    }\n",
       "</style>\n",
       "<table border=\"1\" class=\"dataframe\">\n",
       "  <thead>\n",
       "    <tr style=\"text-align: right;\">\n",
       "      <th></th>\n",
       "      <th>temperature</th>\n",
       "      <th>humidity</th>\n",
       "      <th>wind_speed</th>\n",
       "      <th>solar_irradiance</th>\n",
       "      <th>energy_consumption</th>\n",
       "    </tr>\n",
       "  </thead>\n",
       "  <tbody>\n",
       "    <tr>\n",
       "      <th>0</th>\n",
       "      <td>24.363503</td>\n",
       "      <td>31.107976</td>\n",
       "      <td>5.234114</td>\n",
       "      <td>705.432695</td>\n",
       "      <td>307.398145</td>\n",
       "    </tr>\n",
       "    <tr>\n",
       "      <th>1</th>\n",
       "      <td>38.767858</td>\n",
       "      <td>52.514057</td>\n",
       "      <td>4.939576</td>\n",
       "      <td>817.013258</td>\n",
       "      <td>412.444548</td>\n",
       "    </tr>\n",
       "    <tr>\n",
       "      <th>2</th>\n",
       "      <td>33.299849</td>\n",
       "      <td>72.376750</td>\n",
       "      <td>18.125092</td>\n",
       "      <td>325.421109</td>\n",
       "      <td>392.072418</td>\n",
       "    </tr>\n",
       "    <tr>\n",
       "      <th>3</th>\n",
       "      <td>29.966462</td>\n",
       "      <td>63.933493</td>\n",
       "      <td>4.990924</td>\n",
       "      <td>662.386690</td>\n",
       "      <td>119.254957</td>\n",
       "    </tr>\n",
       "    <tr>\n",
       "      <th>4</th>\n",
       "      <td>18.900466</td>\n",
       "      <td>68.393669</td>\n",
       "      <td>5.438995</td>\n",
       "      <td>614.571385</td>\n",
       "      <td>117.162261</td>\n",
       "    </tr>\n",
       "  </tbody>\n",
       "</table>\n",
       "</div>"
      ],
      "text/plain": [
       "   temperature   humidity  wind_speed  solar_irradiance  energy_consumption\n",
       "0    24.363503  31.107976    5.234114        705.432695          307.398145\n",
       "1    38.767858  52.514057    4.939576        817.013258          412.444548\n",
       "2    33.299849  72.376750   18.125092        325.421109          392.072418\n",
       "3    29.966462  63.933493    4.990924        662.386690          119.254957\n",
       "4    18.900466  68.393669    5.438995        614.571385          117.162261"
      ]
     },
     "execution_count": 8,
     "metadata": {},
     "output_type": "execute_result"
    }
   ],
   "source": [
    "data = pd.read_excel('predict_energy_consumption.xlsx')\n",
    "data.head()"
   ]
  },
  {
   "cell_type": "code",
   "execution_count": 12,
   "id": "9a97bfae-ef42-45a1-9cf3-d696f5b2937e",
   "metadata": {},
   "outputs": [
    {
     "data": {
      "text/plain": [
       "(1000, 5)"
      ]
     },
     "execution_count": 12,
     "metadata": {},
     "output_type": "execute_result"
    }
   ],
   "source": [
    "data.shape"
   ]
  },
  {
   "cell_type": "code",
   "execution_count": 14,
   "id": "a1392894-6144-4903-a592-d9b77f2f3c0c",
   "metadata": {},
   "outputs": [
    {
     "data": {
      "text/html": [
       "<div>\n",
       "<style scoped>\n",
       "    .dataframe tbody tr th:only-of-type {\n",
       "        vertical-align: middle;\n",
       "    }\n",
       "\n",
       "    .dataframe tbody tr th {\n",
       "        vertical-align: top;\n",
       "    }\n",
       "\n",
       "    .dataframe thead th {\n",
       "        text-align: right;\n",
       "    }\n",
       "</style>\n",
       "<table border=\"1\" class=\"dataframe\">\n",
       "  <thead>\n",
       "    <tr style=\"text-align: right;\">\n",
       "      <th></th>\n",
       "      <th>temperature</th>\n",
       "      <th>humidity</th>\n",
       "      <th>wind_speed</th>\n",
       "      <th>solar_irradiance</th>\n",
       "      <th>energy_consumption</th>\n",
       "    </tr>\n",
       "  </thead>\n",
       "  <tbody>\n",
       "    <tr>\n",
       "      <th>995</th>\n",
       "      <td>17.289552</td>\n",
       "      <td>59.417309</td>\n",
       "      <td>17.305915</td>\n",
       "      <td>497.896331</td>\n",
       "      <td>453.828793</td>\n",
       "    </tr>\n",
       "    <tr>\n",
       "      <th>996</th>\n",
       "      <td>37.932839</td>\n",
       "      <td>77.396877</td>\n",
       "      <td>3.145464</td>\n",
       "      <td>400.961061</td>\n",
       "      <td>103.721455</td>\n",
       "    </tr>\n",
       "    <tr>\n",
       "      <th>997</th>\n",
       "      <td>18.420466</td>\n",
       "      <td>24.137481</td>\n",
       "      <td>6.195757</td>\n",
       "      <td>455.115084</td>\n",
       "      <td>197.529277</td>\n",
       "    </tr>\n",
       "    <tr>\n",
       "      <th>998</th>\n",
       "      <td>38.755934</td>\n",
       "      <td>23.423283</td>\n",
       "      <td>5.800911</td>\n",
       "      <td>576.946528</td>\n",
       "      <td>417.085421</td>\n",
       "    </tr>\n",
       "    <tr>\n",
       "      <th>999</th>\n",
       "      <td>26.150144</td>\n",
       "      <td>36.931224</td>\n",
       "      <td>17.428281</td>\n",
       "      <td>245.230623</td>\n",
       "      <td>318.790570</td>\n",
       "    </tr>\n",
       "  </tbody>\n",
       "</table>\n",
       "</div>"
      ],
      "text/plain": [
       "     temperature   humidity  wind_speed  solar_irradiance  energy_consumption\n",
       "995    17.289552  59.417309   17.305915        497.896331          453.828793\n",
       "996    37.932839  77.396877    3.145464        400.961061          103.721455\n",
       "997    18.420466  24.137481    6.195757        455.115084          197.529277\n",
       "998    38.755934  23.423283    5.800911        576.946528          417.085421\n",
       "999    26.150144  36.931224   17.428281        245.230623          318.790570"
      ]
     },
     "execution_count": 14,
     "metadata": {},
     "output_type": "execute_result"
    }
   ],
   "source": [
    "data.tail()"
   ]
  },
  {
   "cell_type": "code",
   "execution_count": 16,
   "id": "c1f6b55b-2257-4717-a353-591d52bc99ad",
   "metadata": {},
   "outputs": [
    {
     "data": {
      "text/html": [
       "<div>\n",
       "<style scoped>\n",
       "    .dataframe tbody tr th:only-of-type {\n",
       "        vertical-align: middle;\n",
       "    }\n",
       "\n",
       "    .dataframe tbody tr th {\n",
       "        vertical-align: top;\n",
       "    }\n",
       "\n",
       "    .dataframe thead th {\n",
       "        text-align: right;\n",
       "    }\n",
       "</style>\n",
       "<table border=\"1\" class=\"dataframe\">\n",
       "  <thead>\n",
       "    <tr style=\"text-align: right;\">\n",
       "      <th></th>\n",
       "      <th>temperature</th>\n",
       "      <th>humidity</th>\n",
       "      <th>wind_speed</th>\n",
       "      <th>solar_irradiance</th>\n",
       "      <th>energy_consumption</th>\n",
       "    </tr>\n",
       "  </thead>\n",
       "  <tbody>\n",
       "    <tr>\n",
       "      <th>count</th>\n",
       "      <td>1000.000000</td>\n",
       "      <td>1000.000000</td>\n",
       "      <td>1000.000000</td>\n",
       "      <td>1000.000000</td>\n",
       "      <td>1000.000000</td>\n",
       "    </tr>\n",
       "    <tr>\n",
       "      <th>mean</th>\n",
       "      <td>27.256414</td>\n",
       "      <td>50.421038</td>\n",
       "      <td>10.048115</td>\n",
       "      <td>541.337543</td>\n",
       "      <td>272.347395</td>\n",
       "    </tr>\n",
       "    <tr>\n",
       "      <th>std</th>\n",
       "      <td>7.303434</td>\n",
       "      <td>17.531394</td>\n",
       "      <td>5.813484</td>\n",
       "      <td>257.840410</td>\n",
       "      <td>129.064474</td>\n",
       "    </tr>\n",
       "    <tr>\n",
       "      <th>min</th>\n",
       "      <td>15.115801</td>\n",
       "      <td>20.193096</td>\n",
       "      <td>0.000233</td>\n",
       "      <td>100.588052</td>\n",
       "      <td>50.013823</td>\n",
       "    </tr>\n",
       "    <tr>\n",
       "      <th>25%</th>\n",
       "      <td>20.899332</td>\n",
       "      <td>34.464456</td>\n",
       "      <td>5.227020</td>\n",
       "      <td>317.710693</td>\n",
       "      <td>160.238303</td>\n",
       "    </tr>\n",
       "    <tr>\n",
       "      <th>50%</th>\n",
       "      <td>27.420184</td>\n",
       "      <td>51.124034</td>\n",
       "      <td>10.012278</td>\n",
       "      <td>535.851355</td>\n",
       "      <td>272.569144</td>\n",
       "    </tr>\n",
       "    <tr>\n",
       "      <th>75%</th>\n",
       "      <td>33.607990</td>\n",
       "      <td>65.627903</td>\n",
       "      <td>15.182071</td>\n",
       "      <td>763.786729</td>\n",
       "      <td>382.997053</td>\n",
       "    </tr>\n",
       "    <tr>\n",
       "      <th>max</th>\n",
       "      <td>39.992942</td>\n",
       "      <td>79.964824</td>\n",
       "      <td>19.956417</td>\n",
       "      <td>999.601933</td>\n",
       "      <td>498.987225</td>\n",
       "    </tr>\n",
       "  </tbody>\n",
       "</table>\n",
       "</div>"
      ],
      "text/plain": [
       "       temperature     humidity   wind_speed  solar_irradiance  \\\n",
       "count  1000.000000  1000.000000  1000.000000       1000.000000   \n",
       "mean     27.256414    50.421038    10.048115        541.337543   \n",
       "std       7.303434    17.531394     5.813484        257.840410   \n",
       "min      15.115801    20.193096     0.000233        100.588052   \n",
       "25%      20.899332    34.464456     5.227020        317.710693   \n",
       "50%      27.420184    51.124034    10.012278        535.851355   \n",
       "75%      33.607990    65.627903    15.182071        763.786729   \n",
       "max      39.992942    79.964824    19.956417        999.601933   \n",
       "\n",
       "       energy_consumption  \n",
       "count         1000.000000  \n",
       "mean           272.347395  \n",
       "std            129.064474  \n",
       "min             50.013823  \n",
       "25%            160.238303  \n",
       "50%            272.569144  \n",
       "75%            382.997053  \n",
       "max            498.987225  "
      ]
     },
     "execution_count": 16,
     "metadata": {},
     "output_type": "execute_result"
    }
   ],
   "source": [
    "data.describe()"
   ]
  },
  {
   "cell_type": "code",
   "execution_count": 18,
   "id": "0edf4ec6-9ce1-4c23-b200-b1af13d9dc06",
   "metadata": {},
   "outputs": [
    {
     "name": "stdout",
     "output_type": "stream",
     "text": [
      "<class 'pandas.core.frame.DataFrame'>\n",
      "RangeIndex: 1000 entries, 0 to 999\n",
      "Data columns (total 5 columns):\n",
      " #   Column              Non-Null Count  Dtype  \n",
      "---  ------              --------------  -----  \n",
      " 0   temperature         1000 non-null   float64\n",
      " 1   humidity            1000 non-null   float64\n",
      " 2   wind_speed          1000 non-null   float64\n",
      " 3   solar_irradiance    1000 non-null   float64\n",
      " 4   energy_consumption  1000 non-null   float64\n",
      "dtypes: float64(5)\n",
      "memory usage: 39.2 KB\n"
     ]
    }
   ],
   "source": [
    "data.info()"
   ]
  },
  {
   "cell_type": "code",
   "execution_count": 20,
   "id": "3d81da77-192b-4b4b-9722-0773cfae3231",
   "metadata": {},
   "outputs": [
    {
     "data": {
      "text/plain": [
       "temperature           0\n",
       "humidity              0\n",
       "wind_speed            0\n",
       "solar_irradiance      0\n",
       "energy_consumption    0\n",
       "dtype: int64"
      ]
     },
     "execution_count": 20,
     "metadata": {},
     "output_type": "execute_result"
    }
   ],
   "source": [
    "data.isnull().sum()"
   ]
  },
  {
   "cell_type": "code",
   "execution_count": 22,
   "id": "4a1479e2-e0cc-4b23-b8a7-b5f80a9220bc",
   "metadata": {},
   "outputs": [
    {
     "data": {
      "text/plain": [
       "0"
      ]
     },
     "execution_count": 22,
     "metadata": {},
     "output_type": "execute_result"
    }
   ],
   "source": [
    "data.isnull().sum().sum()"
   ]
  },
  {
   "cell_type": "code",
   "execution_count": 24,
   "id": "75932a37-f603-4f98-98c4-f514f1b9a739",
   "metadata": {},
   "outputs": [
    {
     "data": {
      "text/plain": [
       "0"
      ]
     },
     "execution_count": 24,
     "metadata": {},
     "output_type": "execute_result"
    }
   ],
   "source": [
    "data.duplicated().sum()"
   ]
  },
  {
   "cell_type": "code",
   "execution_count": 26,
   "id": "842ffa6f-bdfb-4582-a047-685ca0e334cc",
   "metadata": {},
   "outputs": [
    {
     "data": {
      "text/plain": [
       "[RangeIndex(start=0, stop=1000, step=1),\n",
       " Index(['temperature', 'humidity', 'wind_speed', 'solar_irradiance',\n",
       "        'energy_consumption'],\n",
       "       dtype='object')]"
      ]
     },
     "execution_count": 26,
     "metadata": {},
     "output_type": "execute_result"
    }
   ],
   "source": [
    "data.axes"
   ]
  },
  {
   "cell_type": "code",
   "execution_count": 28,
   "id": "adf9dc9f-a524-4833-b623-e3bf462fa2ec",
   "metadata": {},
   "outputs": [
    {
     "data": {
      "text/plain": [
       "{}"
      ]
     },
     "execution_count": 28,
     "metadata": {},
     "output_type": "execute_result"
    }
   ],
   "source": [
    "data.attrs"
   ]
  },
  {
   "cell_type": "code",
   "execution_count": 30,
   "id": "7422d1cc-bdc5-43aa-9ebc-271cd7b45266",
   "metadata": {},
   "outputs": [],
   "source": [
    "X = data[['temperature','humidity','wind_speed','solar_irradiance']].values\n",
    "y = data['energy_consumption']"
   ]
  },
  {
   "cell_type": "code",
   "execution_count": 32,
   "id": "7449bccc-735d-471d-bfbb-a05885c3e871",
   "metadata": {},
   "outputs": [],
   "source": [
    "X_train, X_test, y_train, y_test = train_test_split(X,y,test_size=0.2, random_state=42)"
   ]
  },
  {
   "cell_type": "code",
   "execution_count": 34,
   "id": "602bb734-9631-41fd-a1a5-ffbd3368a170",
   "metadata": {},
   "outputs": [],
   "source": [
    "scaler = StandardScaler()\n",
    "X_train = scaler.fit_transform(X_train)\n",
    "X_test=scaler.transform(X_test)"
   ]
  },
  {
   "cell_type": "code",
   "execution_count": 47,
   "id": "aeb16add-999c-4ad3-981a-31f44e1630c2",
   "metadata": {},
   "outputs": [
    {
     "name": "stderr",
     "output_type": "stream",
     "text": [
      "C:\\Users\\ASUS\\anaconda3\\Lib\\site-packages\\keras\\src\\layers\\core\\dense.py:87: UserWarning: Do not pass an `input_shape`/`input_dim` argument to a layer. When using Sequential models, prefer using an `Input(shape)` object as the first layer in the model instead.\n",
      "  super().__init__(activity_regularizer=activity_regularizer, **kwargs)\n"
     ]
    }
   ],
   "source": [
    "model = Sequential([\n",
    "    Dense(64, activation='relu', input_shape=(X_train.shape[1],)), #input layer with 64 neuron\n",
    "    Dense(32, activation='relu'), #hidden layer with 32 neuron\n",
    "    Dense(1) #output layer for regression (1 neuron)\n",
    "])"
   ]
  },
  {
   "cell_type": "code",
   "execution_count": 49,
   "id": "105eec84-af8c-42ab-b732-d778ccb834fd",
   "metadata": {},
   "outputs": [],
   "source": [
    "model.compile(optimizer='adam', loss='mse', metrics=['mae'])\n",
    "#mean squared  errror and mean absolute error"
   ]
  },
  {
   "cell_type": "code",
   "execution_count": 51,
   "id": "d9b9f28b-0bd1-4652-b20a-d78ba2c66bd2",
   "metadata": {},
   "outputs": [
    {
     "name": "stdout",
     "output_type": "stream",
     "text": [
      "Epoch 1/50\n",
      "\u001b[1m20/20\u001b[0m \u001b[32m━━━━━━━━━━━━━━━━━━━━\u001b[0m\u001b[37m\u001b[0m \u001b[1m3s\u001b[0m 28ms/step - loss: 87522.4609 - mae: 266.1790 - val_loss: 83548.8828 - val_mae: 258.7206\n",
      "Epoch 2/50\n",
      "\u001b[1m20/20\u001b[0m \u001b[32m━━━━━━━━━━━━━━━━━━━━\u001b[0m\u001b[37m\u001b[0m \u001b[1m0s\u001b[0m 16ms/step - loss: 90883.4922 - mae: 272.2044 - val_loss: 82882.9141 - val_mae: 257.4208\n",
      "Epoch 3/50\n",
      "\u001b[1m20/20\u001b[0m \u001b[32m━━━━━━━━━━━━━━━━━━━━\u001b[0m\u001b[37m\u001b[0m \u001b[1m0s\u001b[0m 18ms/step - loss: 87138.6875 - mae: 265.6737 - val_loss: 81788.7891 - val_mae: 255.2714\n",
      "Epoch 4/50\n",
      "\u001b[1m20/20\u001b[0m \u001b[32m━━━━━━━━━━━━━━━━━━━━\u001b[0m\u001b[37m\u001b[0m \u001b[1m0s\u001b[0m 16ms/step - loss: 84255.6484 - mae: 261.6671 - val_loss: 80052.0391 - val_mae: 251.8089\n",
      "Epoch 5/50\n",
      "\u001b[1m20/20\u001b[0m \u001b[32m━━━━━━━━━━━━━━━━━━━━\u001b[0m\u001b[37m\u001b[0m \u001b[1m0s\u001b[0m 16ms/step - loss: 89816.1953 - mae: 270.3450 - val_loss: 77417.3984 - val_mae: 246.4598\n",
      "Epoch 6/50\n",
      "\u001b[1m20/20\u001b[0m \u001b[32m━━━━━━━━━━━━━━━━━━━━\u001b[0m\u001b[37m\u001b[0m \u001b[1m0s\u001b[0m 14ms/step - loss: 83507.2266 - mae: 258.5757 - val_loss: 73741.9219 - val_mae: 238.7995\n",
      "Epoch 7/50\n",
      "\u001b[1m20/20\u001b[0m \u001b[32m━━━━━━━━━━━━━━━━━━━━\u001b[0m\u001b[37m\u001b[0m \u001b[1m0s\u001b[0m 14ms/step - loss: 76940.3203 - mae: 246.6721 - val_loss: 68924.9844 - val_mae: 228.3493\n",
      "Epoch 8/50\n",
      "\u001b[1m20/20\u001b[0m \u001b[32m━━━━━━━━━━━━━━━━━━━━\u001b[0m\u001b[37m\u001b[0m \u001b[1m0s\u001b[0m 16ms/step - loss: 72080.1094 - mae: 238.2890 - val_loss: 62858.6992 - val_mae: 214.6602\n",
      "Epoch 9/50\n",
      "\u001b[1m20/20\u001b[0m \u001b[32m━━━━━━━━━━━━━━━━━━━━\u001b[0m\u001b[37m\u001b[0m \u001b[1m0s\u001b[0m 16ms/step - loss: 68100.4531 - mae: 226.8598 - val_loss: 55929.0000 - val_mae: 198.5723\n",
      "Epoch 10/50\n",
      "\u001b[1m20/20\u001b[0m \u001b[32m━━━━━━━━━━━━━━━━━━━━\u001b[0m\u001b[37m\u001b[0m \u001b[1m0s\u001b[0m 16ms/step - loss: 60085.6953 - mae: 210.7821 - val_loss: 48431.2734 - val_mae: 180.9679\n",
      "Epoch 11/50\n",
      "\u001b[1m20/20\u001b[0m \u001b[32m━━━━━━━━━━━━━━━━━━━━\u001b[0m\u001b[37m\u001b[0m \u001b[1m0s\u001b[0m 16ms/step - loss: 50770.9609 - mae: 190.1821 - val_loss: 40881.2734 - val_mae: 163.5297\n",
      "Epoch 12/50\n",
      "\u001b[1m20/20\u001b[0m \u001b[32m━━━━━━━━━━━━━━━━━━━━\u001b[0m\u001b[37m\u001b[0m \u001b[1m0s\u001b[0m 17ms/step - loss: 43535.9023 - mae: 172.8386 - val_loss: 33904.0703 - val_mae: 148.4336\n",
      "Epoch 13/50\n",
      "\u001b[1m20/20\u001b[0m \u001b[32m━━━━━━━━━━━━━━━━━━━━\u001b[0m\u001b[37m\u001b[0m \u001b[1m0s\u001b[0m 15ms/step - loss: 33607.2188 - mae: 149.4353 - val_loss: 28222.3652 - val_mae: 135.9778\n",
      "Epoch 14/50\n",
      "\u001b[1m20/20\u001b[0m \u001b[32m━━━━━━━━━━━━━━━━━━━━\u001b[0m\u001b[37m\u001b[0m \u001b[1m0s\u001b[0m 16ms/step - loss: 25656.6367 - mae: 130.7971 - val_loss: 23887.5840 - val_mae: 126.2995\n",
      "Epoch 15/50\n",
      "\u001b[1m20/20\u001b[0m \u001b[32m━━━━━━━━━━━━━━━━━━━━\u001b[0m\u001b[37m\u001b[0m \u001b[1m0s\u001b[0m 16ms/step - loss: 23194.3555 - mae: 125.6573 - val_loss: 21093.3555 - val_mae: 120.7258\n",
      "Epoch 16/50\n",
      "\u001b[1m20/20\u001b[0m \u001b[32m━━━━━━━━━━━━━━━━━━━━\u001b[0m\u001b[37m\u001b[0m \u001b[1m0s\u001b[0m 15ms/step - loss: 19412.7617 - mae: 114.8956 - val_loss: 19627.2598 - val_mae: 118.1881\n",
      "Epoch 17/50\n",
      "\u001b[1m20/20\u001b[0m \u001b[32m━━━━━━━━━━━━━━━━━━━━\u001b[0m\u001b[37m\u001b[0m \u001b[1m0s\u001b[0m 16ms/step - loss: 19504.5508 - mae: 118.2294 - val_loss: 18947.2168 - val_mae: 117.0283\n",
      "Epoch 18/50\n",
      "\u001b[1m20/20\u001b[0m \u001b[32m━━━━━━━━━━━━━━━━━━━━\u001b[0m\u001b[37m\u001b[0m \u001b[1m0s\u001b[0m 15ms/step - loss: 17849.6152 - mae: 114.9700 - val_loss: 18721.4355 - val_mae: 116.7103\n",
      "Epoch 19/50\n",
      "\u001b[1m20/20\u001b[0m \u001b[32m━━━━━━━━━━━━━━━━━━━━\u001b[0m\u001b[37m\u001b[0m \u001b[1m0s\u001b[0m 15ms/step - loss: 17548.5586 - mae: 113.2858 - val_loss: 18606.4668 - val_mae: 116.5471\n",
      "Epoch 20/50\n",
      "\u001b[1m20/20\u001b[0m \u001b[32m━━━━━━━━━━━━━━━━━━━━\u001b[0m\u001b[37m\u001b[0m \u001b[1m0s\u001b[0m 16ms/step - loss: 17168.7832 - mae: 111.7648 - val_loss: 18574.6016 - val_mae: 116.5360\n",
      "Epoch 21/50\n",
      "\u001b[1m20/20\u001b[0m \u001b[32m━━━━━━━━━━━━━━━━━━━━\u001b[0m\u001b[37m\u001b[0m \u001b[1m0s\u001b[0m 16ms/step - loss: 17236.3008 - mae: 113.6719 - val_loss: 18547.0762 - val_mae: 116.5513\n",
      "Epoch 22/50\n",
      "\u001b[1m20/20\u001b[0m \u001b[32m━━━━━━━━━━━━━━━━━━━━\u001b[0m\u001b[37m\u001b[0m \u001b[1m0s\u001b[0m 18ms/step - loss: 16919.3125 - mae: 112.5630 - val_loss: 18508.0215 - val_mae: 116.5166\n",
      "Epoch 23/50\n",
      "\u001b[1m20/20\u001b[0m \u001b[32m━━━━━━━━━━━━━━━━━━━━\u001b[0m\u001b[37m\u001b[0m \u001b[1m0s\u001b[0m 18ms/step - loss: 18089.6641 - mae: 116.9914 - val_loss: 18478.8379 - val_mae: 116.4906\n",
      "Epoch 24/50\n",
      "\u001b[1m20/20\u001b[0m \u001b[32m━━━━━━━━━━━━━━━━━━━━\u001b[0m\u001b[37m\u001b[0m \u001b[1m0s\u001b[0m 16ms/step - loss: 17256.5215 - mae: 112.7835 - val_loss: 18401.5742 - val_mae: 116.2846\n",
      "Epoch 25/50\n",
      "\u001b[1m20/20\u001b[0m \u001b[32m━━━━━━━━━━━━━━━━━━━━\u001b[0m\u001b[37m\u001b[0m \u001b[1m0s\u001b[0m 16ms/step - loss: 17871.5352 - mae: 116.1150 - val_loss: 18390.2207 - val_mae: 116.2836\n",
      "Epoch 26/50\n",
      "\u001b[1m20/20\u001b[0m \u001b[32m━━━━━━━━━━━━━━━━━━━━\u001b[0m\u001b[37m\u001b[0m \u001b[1m0s\u001b[0m 17ms/step - loss: 17160.1562 - mae: 113.1573 - val_loss: 18387.2871 - val_mae: 116.3138\n",
      "Epoch 27/50\n",
      "\u001b[1m20/20\u001b[0m \u001b[32m━━━━━━━━━━━━━━━━━━━━\u001b[0m\u001b[37m\u001b[0m \u001b[1m0s\u001b[0m 15ms/step - loss: 16231.5586 - mae: 109.6260 - val_loss: 18408.5215 - val_mae: 116.3428\n",
      "Epoch 28/50\n",
      "\u001b[1m20/20\u001b[0m \u001b[32m━━━━━━━━━━━━━━━━━━━━\u001b[0m\u001b[37m\u001b[0m \u001b[1m0s\u001b[0m 15ms/step - loss: 17781.9785 - mae: 115.0294 - val_loss: 18361.3047 - val_mae: 116.2630\n",
      "Epoch 29/50\n",
      "\u001b[1m20/20\u001b[0m \u001b[32m━━━━━━━━━━━━━━━━━━━━\u001b[0m\u001b[37m\u001b[0m \u001b[1m0s\u001b[0m 16ms/step - loss: 15745.2500 - mae: 108.1364 - val_loss: 18339.1426 - val_mae: 116.1606\n",
      "Epoch 30/50\n",
      "\u001b[1m20/20\u001b[0m \u001b[32m━━━━━━━━━━━━━━━━━━━━\u001b[0m\u001b[37m\u001b[0m \u001b[1m0s\u001b[0m 14ms/step - loss: 17883.2051 - mae: 116.3143 - val_loss: 18331.0449 - val_mae: 116.2082\n",
      "Epoch 31/50\n",
      "\u001b[1m20/20\u001b[0m \u001b[32m━━━━━━━━━━━━━━━━━━━━\u001b[0m\u001b[37m\u001b[0m \u001b[1m0s\u001b[0m 16ms/step - loss: 17192.2910 - mae: 114.5661 - val_loss: 18296.1602 - val_mae: 116.0925\n",
      "Epoch 32/50\n",
      "\u001b[1m20/20\u001b[0m \u001b[32m━━━━━━━━━━━━━━━━━━━━\u001b[0m\u001b[37m\u001b[0m \u001b[1m0s\u001b[0m 15ms/step - loss: 17367.5020 - mae: 114.3422 - val_loss: 18280.5020 - val_mae: 116.0946\n",
      "Epoch 33/50\n",
      "\u001b[1m20/20\u001b[0m \u001b[32m━━━━━━━━━━━━━━━━━━━━\u001b[0m\u001b[37m\u001b[0m \u001b[1m0s\u001b[0m 14ms/step - loss: 17142.6230 - mae: 112.9411 - val_loss: 18279.0156 - val_mae: 116.1283\n",
      "Epoch 34/50\n",
      "\u001b[1m20/20\u001b[0m \u001b[32m━━━━━━━━━━━━━━━━━━━━\u001b[0m\u001b[37m\u001b[0m \u001b[1m0s\u001b[0m 14ms/step - loss: 17010.2520 - mae: 112.8666 - val_loss: 18319.3633 - val_mae: 116.2407\n",
      "Epoch 35/50\n",
      "\u001b[1m20/20\u001b[0m \u001b[32m━━━━━━━━━━━━━━━━━━━━\u001b[0m\u001b[37m\u001b[0m \u001b[1m0s\u001b[0m 14ms/step - loss: 18147.5293 - mae: 117.0840 - val_loss: 18245.4102 - val_mae: 116.0428\n",
      "Epoch 36/50\n",
      "\u001b[1m20/20\u001b[0m \u001b[32m━━━━━━━━━━━━━━━━━━━━\u001b[0m\u001b[37m\u001b[0m \u001b[1m0s\u001b[0m 16ms/step - loss: 17309.5684 - mae: 113.8676 - val_loss: 18228.1836 - val_mae: 116.0018\n",
      "Epoch 37/50\n",
      "\u001b[1m20/20\u001b[0m \u001b[32m━━━━━━━━━━━━━━━━━━━━\u001b[0m\u001b[37m\u001b[0m \u001b[1m0s\u001b[0m 15ms/step - loss: 16296.3906 - mae: 109.4375 - val_loss: 18252.6523 - val_mae: 116.0626\n",
      "Epoch 38/50\n",
      "\u001b[1m20/20\u001b[0m \u001b[32m━━━━━━━━━━━━━━━━━━━━\u001b[0m\u001b[37m\u001b[0m \u001b[1m0s\u001b[0m 16ms/step - loss: 17131.3457 - mae: 112.7170 - val_loss: 18233.5898 - val_mae: 116.0787\n",
      "Epoch 39/50\n",
      "\u001b[1m20/20\u001b[0m \u001b[32m━━━━━━━━━━━━━━━━━━━━\u001b[0m\u001b[37m\u001b[0m \u001b[1m0s\u001b[0m 15ms/step - loss: 17230.6973 - mae: 114.8685 - val_loss: 18246.9023 - val_mae: 116.0791\n",
      "Epoch 40/50\n",
      "\u001b[1m20/20\u001b[0m \u001b[32m━━━━━━━━━━━━━━━━━━━━\u001b[0m\u001b[37m\u001b[0m \u001b[1m0s\u001b[0m 16ms/step - loss: 16729.5508 - mae: 111.3707 - val_loss: 18238.7852 - val_mae: 116.1063\n",
      "Epoch 41/50\n",
      "\u001b[1m20/20\u001b[0m \u001b[32m━━━━━━━━━━━━━━━━━━━━\u001b[0m\u001b[37m\u001b[0m \u001b[1m0s\u001b[0m 15ms/step - loss: 17723.3809 - mae: 117.3628 - val_loss: 18223.9043 - val_mae: 116.1428\n",
      "Epoch 42/50\n",
      "\u001b[1m20/20\u001b[0m \u001b[32m━━━━━━━━━━━━━━━━━━━━\u001b[0m\u001b[37m\u001b[0m \u001b[1m0s\u001b[0m 13ms/step - loss: 16846.5371 - mae: 112.0696 - val_loss: 18191.7168 - val_mae: 116.0525\n",
      "Epoch 43/50\n",
      "\u001b[1m20/20\u001b[0m \u001b[32m━━━━━━━━━━━━━━━━━━━━\u001b[0m\u001b[37m\u001b[0m \u001b[1m0s\u001b[0m 16ms/step - loss: 18038.6797 - mae: 116.4082 - val_loss: 18206.0254 - val_mae: 116.1110\n",
      "Epoch 44/50\n",
      "\u001b[1m20/20\u001b[0m \u001b[32m━━━━━━━━━━━━━━━━━━━━\u001b[0m\u001b[37m\u001b[0m \u001b[1m0s\u001b[0m 15ms/step - loss: 16987.6250 - mae: 112.0967 - val_loss: 18253.5059 - val_mae: 116.2644\n",
      "Epoch 45/50\n",
      "\u001b[1m20/20\u001b[0m \u001b[32m━━━━━━━━━━━━━━━━━━━━\u001b[0m\u001b[37m\u001b[0m \u001b[1m0s\u001b[0m 16ms/step - loss: 16580.7207 - mae: 111.9947 - val_loss: 18162.7227 - val_mae: 115.9708\n",
      "Epoch 46/50\n",
      "\u001b[1m20/20\u001b[0m \u001b[32m━━━━━━━━━━━━━━━━━━━━\u001b[0m\u001b[37m\u001b[0m \u001b[1m0s\u001b[0m 15ms/step - loss: 17941.4492 - mae: 116.6667 - val_loss: 18172.5723 - val_mae: 116.1329\n",
      "Epoch 47/50\n",
      "\u001b[1m20/20\u001b[0m \u001b[32m━━━━━━━━━━━━━━━━━━━━\u001b[0m\u001b[37m\u001b[0m \u001b[1m0s\u001b[0m 14ms/step - loss: 17327.7500 - mae: 114.2308 - val_loss: 18201.8711 - val_mae: 116.0947\n",
      "Epoch 48/50\n",
      "\u001b[1m20/20\u001b[0m \u001b[32m━━━━━━━━━━━━━━━━━━━━\u001b[0m\u001b[37m\u001b[0m \u001b[1m0s\u001b[0m 14ms/step - loss: 17115.9961 - mae: 113.9055 - val_loss: 18140.9805 - val_mae: 115.9385\n",
      "Epoch 49/50\n",
      "\u001b[1m20/20\u001b[0m \u001b[32m━━━━━━━━━━━━━━━━━━━━\u001b[0m\u001b[37m\u001b[0m \u001b[1m0s\u001b[0m 16ms/step - loss: 15721.7119 - mae: 108.5986 - val_loss: 18164.2656 - val_mae: 116.0427\n",
      "Epoch 50/50\n",
      "\u001b[1m20/20\u001b[0m \u001b[32m━━━━━━━━━━━━━━━━━━━━\u001b[0m\u001b[37m\u001b[0m \u001b[1m0s\u001b[0m 17ms/step - loss: 17071.4629 - mae: 112.4770 - val_loss: 18211.0000 - val_mae: 116.2217\n"
     ]
    }
   ],
   "source": [
    "history = model.fit(X_train, y_train, epochs=50, batch_size=32, validation_split=0.2, verbose=1)"
   ]
  },
  {
   "cell_type": "code",
   "execution_count": 53,
   "id": "9a3649d7-accb-464d-8d7e-09c70bf586d6",
   "metadata": {},
   "outputs": [
    {
     "name": "stdout",
     "output_type": "stream",
     "text": [
      "\u001b[1m7/7\u001b[0m \u001b[32m━━━━━━━━━━━━━━━━━━━━\u001b[0m\u001b[37m\u001b[0m \u001b[1m0s\u001b[0m 5ms/step - loss: 18156.2734 - mae: 115.4105  \n",
      "Test Mean Absolute Error: 115.75\n"
     ]
    }
   ],
   "source": [
    "test_loss, test_mae = model.evaluate (X_test, y_test, verbose=1)\n",
    "print(f\"Test Mean Absolute Error: {test_mae:.2f}\")"
   ]
  },
  {
   "cell_type": "code",
   "execution_count": 57,
   "id": "43091977-bd7a-4a0b-82c2-a08bbca4251e",
   "metadata": {
    "scrolled": true
   },
   "outputs": [
    {
     "data": {
      "image/png": "[encoded data removed]",
      "text/plain": [
       "<Figure size 640x480 with 1 Axes>"
      ]
     },
     "metadata": {},
     "output_type": "display_data"
    }
   ],
   "source": [
    "plt.plot(history.history['loss'],label='Training Loss')\n",
    "plt.plot(history.history ['val_loss'], label='Validation Loss')\n",
    "plt.xlabel('Epohs')\n",
    "plt.ylabel('Loss')\n",
    "plt.title('Model Training Performance')\n",
    "plt.legend()\n",
    "plt.show()"
   ]
  },
  {
   "cell_type": "code",
   "execution_count": 61,
   "id": "79ba6768-e488-4d75-8dac-c7d54a91b9dd",
   "metadata": {},
   "outputs": [
    {
     "name": "stdout",
     "output_type": "stream",
     "text": [
      "\u001b[1m7/7\u001b[0m \u001b[32m━━━━━━━━━━━━━━━━━━━━\u001b[0m\u001b[37m\u001b[0m \u001b[1m0s\u001b[0m 7ms/step \n"
     ]
    },
    {
     "data": {
      "text/plain": [
       "array([[292.67892],\n",
       "       [252.94487],\n",
       "       [260.75702],\n",
       "       [209.20749],\n",
       "       [341.05896],\n",
       "       [312.88828],\n",
       "       [318.93433],\n",
       "       [296.94223],\n",
       "       [294.0765 ],\n",
       "       [279.4365 ],\n",
       "       [234.8563 ],\n",
       "       [263.7996 ],\n",
       "       [291.28583],\n",
       "       [231.82104],\n",
       "       [301.94495],\n",
       "       [320.23746],\n",
       "       [264.112  ],\n",
       "       [314.1543 ],\n",
       "       [298.8998 ],\n",
       "       [245.52396],\n",
       "       [276.23572],\n",
       "       [291.80038],\n",
       "       [274.08713],\n",
       "       [281.46323],\n",
       "       [255.0042 ],\n",
       "       [244.91893],\n",
       "       [257.8678 ],\n",
       "       [319.48587],\n",
       "       [320.12314],\n",
       "       [274.2507 ],\n",
       "       [236.78578],\n",
       "       [305.61432],\n",
       "       [285.47107],\n",
       "       [271.19638],\n",
       "       [323.68616],\n",
       "       [289.4905 ],\n",
       "       [215.35037],\n",
       "       [259.07855],\n",
       "       [269.44388],\n",
       "       [240.5511 ],\n",
       "       [254.89311],\n",
       "       [253.15009],\n",
       "       [250.97748],\n",
       "       [257.3632 ],\n",
       "       [267.02658],\n",
       "       [255.00479],\n",
       "       [270.54166],\n",
       "       [259.3151 ],\n",
       "       [300.39175],\n",
       "       [297.80515],\n",
       "       [220.97852],\n",
       "       [265.0107 ],\n",
       "       [254.76048],\n",
       "       [213.32742],\n",
       "       [323.10184],\n",
       "       [291.2254 ],\n",
       "       [250.99637],\n",
       "       [287.53354],\n",
       "       [265.54962],\n",
       "       [294.78024],\n",
       "       [261.85687],\n",
       "       [271.29083],\n",
       "       [281.79742],\n",
       "       [319.61484],\n",
       "       [318.4564 ],\n",
       "       [271.76385],\n",
       "       [314.8458 ],\n",
       "       [240.76219],\n",
       "       [250.66846],\n",
       "       [235.8135 ],\n",
       "       [319.42065],\n",
       "       [257.0641 ],\n",
       "       [278.37112],\n",
       "       [257.95877],\n",
       "       [266.15762],\n",
       "       [285.42532],\n",
       "       [230.31226],\n",
       "       [220.84705],\n",
       "       [283.18906],\n",
       "       [289.86746],\n",
       "       [238.15451],\n",
       "       [303.70944],\n",
       "       [253.59087],\n",
       "       [297.15082],\n",
       "       [249.42117],\n",
       "       [258.97433],\n",
       "       [304.9777 ],\n",
       "       [303.10544],\n",
       "       [217.0271 ],\n",
       "       [292.0433 ],\n",
       "       [332.731  ],\n",
       "       [260.10086],\n",
       "       [293.9791 ],\n",
       "       [245.14062],\n",
       "       [229.67569],\n",
       "       [255.71677],\n",
       "       [274.28738],\n",
       "       [270.61307],\n",
       "       [202.47409],\n",
       "       [253.50739],\n",
       "       [299.8751 ],\n",
       "       [257.28073],\n",
       "       [257.6849 ],\n",
       "       [270.95572],\n",
       "       [219.54889],\n",
       "       [278.1079 ],\n",
       "       [330.77823],\n",
       "       [304.75546],\n",
       "       [280.0099 ],\n",
       "       [261.93512],\n",
       "       [342.35452],\n",
       "       [257.8834 ],\n",
       "       [317.61993],\n",
       "       [222.61435],\n",
       "       [271.27628],\n",
       "       [273.38855],\n",
       "       [235.01508],\n",
       "       [299.35382],\n",
       "       [251.82718],\n",
       "       [334.61777],\n",
       "       [243.01083],\n",
       "       [275.50443],\n",
       "       [204.21011],\n",
       "       [259.60403],\n",
       "       [288.84808],\n",
       "       [239.05237],\n",
       "       [217.31137],\n",
       "       [282.13174],\n",
       "       [253.29025],\n",
       "       [277.35855],\n",
       "       [312.32803],\n",
       "       [278.12137],\n",
       "       [306.28955],\n",
       "       [281.5748 ],\n",
       "       [274.7733 ],\n",
       "       [284.48175],\n",
       "       [273.71933],\n",
       "       [269.85858],\n",
       "       [253.48146],\n",
       "       [287.80078],\n",
       "       [280.36313],\n",
       "       [334.57565],\n",
       "       [279.46115],\n",
       "       [256.87515],\n",
       "       [221.1483 ],\n",
       "       [250.08675],\n",
       "       [270.81155],\n",
       "       [299.41077],\n",
       "       [224.02777],\n",
       "       [297.23856],\n",
       "       [218.35875],\n",
       "       [265.98895],\n",
       "       [285.94815],\n",
       "       [301.49597],\n",
       "       [231.14206],\n",
       "       [262.40555],\n",
       "       [245.21051],\n",
       "       [237.79222],\n",
       "       [306.93332],\n",
       "       [304.25436],\n",
       "       [220.97491],\n",
       "       [263.86157],\n",
       "       [252.79001],\n",
       "       [263.76694],\n",
       "       [252.04279],\n",
       "       [290.77017],\n",
       "       [262.40915],\n",
       "       [306.58792],\n",
       "       [292.32584],\n",
       "       [242.07861],\n",
       "       [249.67868],\n",
       "       [223.18329],\n",
       "       [268.84058],\n",
       "       [272.09097],\n",
       "       [244.14264],\n",
       "       [226.35982],\n",
       "       [282.8479 ],\n",
       "       [258.88266],\n",
       "       [276.3575 ],\n",
       "       [259.56155],\n",
       "       [203.4028 ],\n",
       "       [243.06482],\n",
       "       [290.38132],\n",
       "       [255.52003],\n",
       "       [213.60715],\n",
       "       [226.25009],\n",
       "       [320.75308],\n",
       "       [266.8038 ],\n",
       "       [289.94635],\n",
       "       [261.75522],\n",
       "       [288.5519 ],\n",
       "       [289.9538 ],\n",
       "       [249.5488 ],\n",
       "       [266.27945],\n",
       "       [287.04388],\n",
       "       [288.52975],\n",
       "       [269.2053 ],\n",
       "       [259.20615],\n",
       "       [257.94675],\n",
       "       [298.37427]], dtype=float32)"
      ]
     },
     "execution_count": 61,
     "metadata": {},
     "output_type": "execute_result"
    }
   ],
   "source": [
    "predictions=model.predict(X_test)\n",
    "predictions"
   ]
  },
  {
   "cell_type": "code",
   "execution_count": 65,
   "id": "a4cfd375-ab9e-4431-a845-aeb0c995e738",
   "metadata": {},
   "outputs": [
    {
     "data": {
      "image/png": "[encoded data removed]",
      "text/plain": [
       "<Figure size 640x480 with 1 Axes>"
      ]
     },
     "metadata": {},
     "output_type": "display_data"
    }
   ],
   "source": [
    "plt.scatter(y_test, predictions)\n",
    "plt.xlabel('True Energy Consumption')\n",
    "plt.ylabel('Predicted Energy Consumption')\n",
    "plt.title('Prediction vs True Values')\n",
    "plt.show()"
   ]
  },
  {
   "cell_type": "code",
   "execution_count": null,
   "id": "02f3117d-4573-4546-a947-6c6aeb1d7333",
   "metadata": {},
   "outputs": [],
   "source": []
  }
 ],
 "metadata": {
  "kernelspec": {
   "display_name": "Python [conda env:base] *",
   "language": "python",
   "name": "conda-base-py"
  },
  "language_info": {
   "codemirror_mode": {
    "name": "ipython",
    "version": 3
   },
   "file_extension": ".py",
   "mimetype": "text/x-python",
   "name": "python",
   "nbconvert_exporter": "python",
   "pygments_lexer": "ipython3",
   "version": "3.12.7"
  }
 },
 "nbformat": 4,
 "nbformat_minor": 5
}
